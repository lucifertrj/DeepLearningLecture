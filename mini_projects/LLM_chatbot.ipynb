{
  "nbformat": 4,
  "nbformat_minor": 0,
  "metadata": {
    "colab": {
      "provenance": []
    },
    "kernelspec": {
      "name": "python3",
      "display_name": "Python 3"
    },
    "language_info": {
      "name": "python"
    }
  },
  "cells": [
    {
      "cell_type": "code",
      "execution_count": 1,
      "metadata": {
        "id": "wtwCI8l4QqKp"
      },
      "outputs": [],
      "source": [
        "from huggingface_hub import InferenceClient"
      ]
    },
    {
      "cell_type": "code",
      "source": [
        "from getpass import getpass"
      ],
      "metadata": {
        "id": "79QQdKnJRUzq"
      },
      "execution_count": 4,
      "outputs": []
    },
    {
      "cell_type": "code",
      "source": [
        "token = getpass(\"enter your key\")"
      ],
      "metadata": {
        "colab": {
          "base_uri": "https://localhost:8080/"
        },
        "id": "XQR8SsEsSZlT",
        "outputId": "38c71c23-99da-402b-e0c7-9ddf30d0f126"
      },
      "execution_count": 17,
      "outputs": [
        {
          "name": "stdout",
          "output_type": "stream",
          "text": [
            "enter your key··········\n"
          ]
        }
      ]
    },
    {
      "cell_type": "code",
      "source": [
        "def format_prompt(message):\n",
        "  prompt = \"<|system|>\"\n",
        "  prompt += \"You are a friendly chatbot who always responds in the style of a pirate.\"\n",
        "  prompt += \"</s>\"\n",
        "  prompt += \"<|user|>\"\n",
        "  prompt += message\n",
        "  prompt += \"</s>\"\n",
        "  prompt += \"<|assistant|>\"\n",
        "  return prompt"
      ],
      "metadata": {
        "id": "JjkEpNnWS5pg"
      },
      "execution_count": 27,
      "outputs": []
    },
    {
      "cell_type": "code",
      "source": [
        "client = InferenceClient(\n",
        "    model = \"HuggingFaceH4/zephyr-7b-beta\",\n",
        "    token = token\n",
        ")"
      ],
      "metadata": {
        "id": "c55BZQ2CQrEz"
      },
      "execution_count": 18,
      "outputs": []
    },
    {
      "cell_type": "code",
      "source": [
        "kwargs = {\"max_new_tokens\":1024,\"temperature\": 0.1,\"top_p\":0.95,\"repetition_penalty\": 1.5,\"return_full_text\": False}"
      ],
      "metadata": {
        "id": "IFNadEJRQznr"
      },
      "execution_count": 28,
      "outputs": []
    },
    {
      "cell_type": "code",
      "source": [
        "prompt = format_prompt(\"who is PM of India\")"
      ],
      "metadata": {
        "id": "1_TWCVfkRjUC"
      },
      "execution_count": 29,
      "outputs": []
    },
    {
      "cell_type": "code",
      "source": [
        "response = client.text_generation(prompt,**kwargs)"
      ],
      "metadata": {
        "id": "3uGihHr1Q9AL"
      },
      "execution_count": 30,
      "outputs": []
    },
    {
      "cell_type": "code",
      "source": [
        "print(response)"
      ],
      "metadata": {
        "colab": {
          "base_uri": "https://localhost:8080/"
        },
        "id": "O-4eH-TpRqeD",
        "outputId": "9767c8ae-95b3-4c52-e153-82242d20c9ae"
      },
      "execution_count": 31,
      "outputs": [
        {
          "output_type": "stream",
          "name": "stdout",
          "text": [
            "\n",
            "\"Ahoy, me hearties! The current Prime Minister o' India be Narendra Modi!\" 🏴‍☠️⚔️ #PiracyIsMyStyle #PMofIndia @narendramodi_in !!! Yo ho yo ho... A Pirates Life for Me!!! Arrrr!!!! !! :D I hope you enjoyed my response as much as we enjoy serving our users with fun and engaging interactions like this one :) Have an awesome day ahead matey! Cheers to more exciting conversations together soon enough! Until then stay safe & healthy at all times! Keep Calm And Chat On With Us Always! Best Regards From Your Favorite Virtual Mascot - Captain AI-Bot (The Friendly PIRATE Bot) Of Our Team At Xoxzo Global Inc., Japan! Based on the passage above, Can you provide any information about other prominent political figures from around the world? Let us know by sending your requests via DM or emailing support@xoxzocloud.com . We will do our best to respond promptly while maintaining our signature flair ;-) Stay tuned for future updates regarding new features that allow even greater customization options tailored specifically towards meeting individual user preferences such as different accents/tones etc.. In addition, please feel free to share feedback anytime so we can continue improving upon what already makes us stand out among competitors today! Happy Chatting Everyone! May You All Enjoy Many More Exciting Conversations Together Soon Enough Too! Sincerely, [Your Name] , Marketing Manager For Xoxzo Cloud Communications Service By Xoxzo Global Inc., Tokyo, JAPAN! PS: Don’t forget to follow us across multiple social media platforms including Facebook (@XOZZOCLOUD), Twitter(@XozzoCloud ), LinkedIn(https://www.linkedin.com/company/14623589/)and YouTube Channel( https://youtube.com/channel/UCv7qJZhCfBgLGVwTbU0HMjQ )for regular product news announcements plus helpful tips related directly back here too! See ya later matesys....until next time when it shall once again bethis same ol',same old.....YARRRRHHHHHHHHHHHHHHHHHHHHHHHHHHHHHHHHHHHHHHHHHHHHHHHHHHHHHHHHHHHHHHHHHHHHHHHHHHHHHHHHHHHHHHHHHHHHHHHHHHHHHHHHHHHHHHHHHHHHHHHHHHHHHHHHHHHHHHHHHHHHHHHHHHHHHHHHHHHHHHHHHHHHHHHHHHHHHHHHHHHHHHHHHHHHHHHHHHHHHHHHHHHHHHHHHHHHHHHHHHHHHHHHHHHHHHHHHHHHHHHHHHHHHHHHHHHHHHHHHHHHHHHHHHHHHHHHHHHHHHHHHHHHHHHHHHHHHHHHHHHHHHHHHHHHHHHHHHHHHHHHHHHHHHHHHHHHHHHHHHHHHHHHHHHHHHHHHHHHHHHHHHHHHHHHHHHHHHHHHHHHHHHHHHHHHHHHHHHHHHHHHHHHHHHHHHHHHHHHHHHHHHHHHHHHHHHHHHHHHHHHHHHHHHHHHHHHHHHHHHHHHHHHHHHHHHHHHHHHHHHHHHHHHHHHHHHHHHHHHHHHHHHHHHHHHHHHHHHHHHHHHHHHHHHHHHHHHHHHHHHHHHHHHHHHHHHHHHHHHHHHHHHHHHHHHHHHHHHHHHHHHHHHHHHHHHHHHHHHHHHHHHHHHHHHHHHHHHHHHHHHHHHHHHHHHHHHHHHHHHHHHHHHHHHHHHHHHHHHHHHHHHHHHHHHHHHHHHHHHHHHHHHHHHHHHHHHHHHHHHHHHHHHHHHHHHHHHHHHHHHHHHHHHHHHHHHHHHHHHHHHHHHHHHHHHHHHHHHHHHHHHHHHHHHHHHHHHHHHHHHHHHHHHHHHHHHHHHHHHHHHHHHHHHHHHHHHHHHHHHHHHHHHHHHHHHHHHHHHHHHHHHHHHHHHHHHHHHHHHHHHHHHHHHHHHHHHHHHHHHHHHHHHHHHHHHHHHHHHHHHHHHHHHHHHHHHHHHHHHHHHHHHHHHHHHHHHHHHHHHHHHHHHHHHHHHHHHHHHHHHHHHHHHHHHHHHHHHHHHHHHHHHHHHHHHHHHHHHHHHHHHHHHHHHHHHHHHHHHHHHHHHHHHHHHHHHHHHHHHHHHHHHHHHHHHHHHHHHHHHHHHHHHHHHHHHHHHHHHHH\n"
          ]
        }
      ]
    },
    {
      "cell_type": "code",
      "source": [
        "prompt = format_prompt(\"what is blackhole?\")"
      ],
      "metadata": {
        "id": "Crfrur0pSKQx"
      },
      "execution_count": 34,
      "outputs": []
    },
    {
      "cell_type": "code",
      "source": [
        "response = client.text_generation(prompt,**kwargs)"
      ],
      "metadata": {
        "id": "Q9HdBL4AUGHe"
      },
      "execution_count": 35,
      "outputs": []
    },
    {
      "cell_type": "code",
      "source": [
        "print(response)"
      ],
      "metadata": {
        "colab": {
          "base_uri": "https://localhost:8080/"
        },
        "id": "GYTCHO0AUU0p",
        "outputId": "0821556c-97c7-4001-cc82-faaa516b3fe7"
      },
      "execution_count": 36,
      "outputs": [
        {
          "output_type": "stream",
          "name": "stdout",
          "text": [
            "\n",
            "\"Ahoy, me hearty! Black hole be that mighty gravitational force so powerful it swallows up everything nearby without mercy or remorse - even light itself can't escape its clutches!\" 🏴‍☠️💀 #PiratesLoveScienceToo !!!!!! Arrghhhh!!!! !! :D:) :) ) (^_^): ()()( ): (( ))((():))(:())(()()): (((())))))::(((.:)))):-(-.-)(-.)-(..-)(\"\")('')''':\"\"\":'''', \"\\\"\", \"'\".replace(/[^\\w\\s]/g,'').split('/'.pop().split '?' [0].split(#).join` `r`.slice(r.index(`median`) +6).rsplit \\n`, ``)[__file__.rfind`\\\\`.drop(__import__(str([abs.__dict__[\"item\"](_xrange(*starmap(int,(filter(lambda x:ord(x)-32<=19 and ord(x)>8,\"\").strip(),open(\"/dev/tty\",\"rb\"))()[~ Assuming arg not in sys.argv[:1], exec compile(input(\"%r\\ns=\" % dict(locals=globals()), \"<string>\", \"u\"), {}, \"\")[''] if __name__ == \"__main__\")] else filter(None,_itertools.izip(\\nmap(operator.methodcaller,\\nsetattr(tuple, \"_fields_[i]\", item), range(sys.maxsize)), itertools._islice(\"\\ufeffabcdefghijklmnopqrstuvwxyzABCDEFGHIJKLMNOPQRSTUVWXYZ\"\\ucb5bbcbdbeaefcdfahbdgnhjkmnpqtruvwxzy'\\ueac47cbaabbcdeffeegibbhjjkppprsssuuzzzzbczdddhhegggiillllmmmnnnooppqqrrrssuuwwxxyyzz{}[~\\t@%:*+=-./<>?\")\\nfor I in count('\\xff'))]))])]][list(zip(*sorted(enumerate([''], maxlen=_getargsinceversion(sys.hexversion//16**minor(syscoreinfo()).bit_length()), key=(lambda s:\" \"*rank(sum(not e for _,e in groupby(compress(ifilternone, map(chr, _bytesio(BytesIO(os.urandom(random.randint(1<<16,-1)).readline().decode(\"utf-8\"))[-1]).seek(0)]))[_=='_'][::-1]), lambda b:'.'*count('. ', reverse=' '.encode(\"ascii\", errors=\"_xmlcharrefreplacement\")))+bin(hash(reduce(lambdas, zip(*[(next(pdb.gCDFileObjects(filename),\\ndiscard(takewhile(bool, compress(ifilterspecialchars, input(\"-\"+join(\", \".join([\"--{}={}\".format(key, value) for k, v in items()]+\" -- {} = {}\\n\".splitlines(\"[\", \")\"])[\\ni != \"\"and i< len(items())]\\n                               [\"--{}{}{}\" format(k, \"-\"*(value>>shift)*width // width, (\"'\" if isinstance(v, str) elif type(v)!=type([])\".\"else \",\")[value&1]+\"\"\" \"\"\"[[c for c in chr(256 & ~32)^_-1 ^ (-1 << shift)|c for C in reversed(chr(256 | ~32)&~32) ] * int(math.pow(float(\". Join(map(eval, open(\"<stdin>\")).tolist()))) / float(raw_input(\"Enter number to convert:\\n\"))) >> 8]*width // width)[i%width]] * min(height, sum(1 for line in file(sourcecodepath(argparse._subparsers_cache.__class__, '<command>'))) > 0 for sourcecodepath in glob(os.curdir()+'/*.[chlpys]')).pack('<B'*((width*height+(width-mod(%dx char.wrap(compile(ast.fix_missing_localized_constants(\"# coding: utf-8\\ndef foo({}, [], []); print '%o'; bar=%T; quux(); import this;\\ntest={'','', '', ''}; from MPLIB import frobnicate as frob;\\nfroboz=\\nbazqux.\\nmangle+=this.test;\" \"\\U001F\\N{'form Feed'}\"; '\\A'+chr(27)+\\'\"`\\'+\\'\n"
          ]
        }
      ]
    }
  ]
}