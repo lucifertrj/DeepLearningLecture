{
  "nbformat": 4,
  "nbformat_minor": 0,
  "metadata": {
    "colab": {
      "provenance": []
    },
    "kernelspec": {
      "name": "python3",
      "display_name": "Python 3"
    },
    "language_info": {
      "name": "python"
    }
  },
  "cells": [
    {
      "cell_type": "markdown",
      "source": [
        "# Study the effect of batch normalization and dropout in neural network classifier\n",
        "\n",
        "## Batch Normalization:\n",
        "\n",
        "Batch normalization is a technique used to improve the training of artificial neural networks by normalizing the input of each layer. It helps in stabilizing and accelerating the training process by reducing internal covariate shift. In simpler terms, it normalizes the input of each layer, which helps in preventing vanishing gradients and allows for faster convergence during training.\n",
        "\n",
        "## Dropout:\n",
        "\n",
        "Dropout is a regularization technique used during training to prevent overfitting. It works by randomly dropping a certain percentage of neurons (along with their connections) from the neural network during each training iteration. This helps in preventing the network from relying too much on any specific set of neurons, thus improving generalization and reducing overfitting."
      ],
      "metadata": {
        "id": "ubHJWOekAWj2"
      }
    },
    {
      "cell_type": "code",
      "source": [
        "import tensorflow as tf\n",
        "from tensorflow.keras.models import Sequential\n",
        "from tensorflow.keras.layers import Flatten, Dense, BatchNormalization, Dropout\n",
        "from tensorflow.keras.optimizers import Adam\n",
        "from tensorflow.keras.datasets import mnist"
      ],
      "metadata": {
        "id": "XaLNHkkmAtPX"
      },
      "execution_count": 4,
      "outputs": []
    },
    {
      "cell_type": "code",
      "source": [
        "(X_train, y_train), (X_test, y_test) = mnist.load_data()\n",
        "X_train = X_train / 255.0\n",
        "X_test = X_test / 255.0"
      ],
      "metadata": {
        "colab": {
          "base_uri": "https://localhost:8080/"
        },
        "id": "2uMLFFMLAv8m",
        "outputId": "b137631b-52c1-4482-f535-8e59a10b1152"
      },
      "execution_count": 2,
      "outputs": [
        {
          "output_type": "stream",
          "name": "stdout",
          "text": [
            "Downloading data from https://storage.googleapis.com/tensorflow/tf-keras-datasets/mnist.npz\n",
            "11490434/11490434 [==============================] - 0s 0us/step\n"
          ]
        }
      ]
    },
    {
      "cell_type": "code",
      "source": [
        "model = Sequential([\n",
        "        Flatten(input_shape=(28, 28)),\n",
        "        Dense(128, activation='relu'),\n",
        "        BatchNormalization(),  # Adding Batch Normalization layer\n",
        "        Dropout(0.2),          # Adding Dropout layer with dropout rate of 0.2\n",
        "        Dense(64, activation='relu'),\n",
        "        BatchNormalization(),\n",
        "        Dropout(0.2),\n",
        "        Dense(10, activation='softmax')\n",
        "    ])"
      ],
      "metadata": {
        "id": "7gG7H4sNA-Xu"
      },
      "execution_count": 5,
      "outputs": []
    },
    {
      "cell_type": "code",
      "source": [
        "model.compile(optimizer=\"adam\",\n",
        "              loss='sparse_categorical_crossentropy',\n",
        "              metrics=['accuracy'])"
      ],
      "metadata": {
        "id": "jficybcfAGwt"
      },
      "execution_count": 6,
      "outputs": []
    },
    {
      "cell_type": "code",
      "source": [
        "history = model.fit(X_train, y_train, epochs=10, batch_size=32, validation_data=(X_test, y_test))"
      ],
      "metadata": {
        "colab": {
          "base_uri": "https://localhost:8080/"
        },
        "id": "bX-u-U5hAvBW",
        "outputId": "57e330b5-566d-4161-abe9-7a27ad71a3df"
      },
      "execution_count": 7,
      "outputs": [
        {
          "output_type": "stream",
          "name": "stdout",
          "text": [
            "Epoch 1/10\n",
            "1875/1875 [==============================] - 13s 6ms/step - loss: 0.3368 - accuracy: 0.8983 - val_loss: 0.1420 - val_accuracy: 0.9558\n",
            "Epoch 2/10\n",
            "1875/1875 [==============================] - 12s 6ms/step - loss: 0.1938 - accuracy: 0.9418 - val_loss: 0.1085 - val_accuracy: 0.9641\n",
            "Epoch 3/10\n",
            "1875/1875 [==============================] - 11s 6ms/step - loss: 0.1584 - accuracy: 0.9518 - val_loss: 0.0936 - val_accuracy: 0.9709\n",
            "Epoch 4/10\n",
            "1875/1875 [==============================] - 11s 6ms/step - loss: 0.1346 - accuracy: 0.9582 - val_loss: 0.0912 - val_accuracy: 0.9714\n",
            "Epoch 5/10\n",
            "1875/1875 [==============================] - 11s 6ms/step - loss: 0.1275 - accuracy: 0.9598 - val_loss: 0.0768 - val_accuracy: 0.9759\n",
            "Epoch 6/10\n",
            "1875/1875 [==============================] - 11s 6ms/step - loss: 0.1138 - accuracy: 0.9652 - val_loss: 0.0735 - val_accuracy: 0.9770\n",
            "Epoch 7/10\n",
            "1875/1875 [==============================] - 9s 5ms/step - loss: 0.1043 - accuracy: 0.9680 - val_loss: 0.0720 - val_accuracy: 0.9793\n",
            "Epoch 8/10\n",
            "1875/1875 [==============================] - 11s 6ms/step - loss: 0.0971 - accuracy: 0.9690 - val_loss: 0.0662 - val_accuracy: 0.9785\n",
            "Epoch 9/10\n",
            "1875/1875 [==============================] - 11s 6ms/step - loss: 0.0928 - accuracy: 0.9712 - val_loss: 0.0660 - val_accuracy: 0.9804\n",
            "Epoch 10/10\n",
            "1875/1875 [==============================] - 10s 5ms/step - loss: 0.0854 - accuracy: 0.9736 - val_loss: 0.0662 - val_accuracy: 0.9793\n"
          ]
        }
      ]
    },
    {
      "cell_type": "code",
      "source": [
        "train_loss, train_acc = model.evaluate(X_train, y_train)\n",
        "print(\"Train Loss:\", train_loss)\n",
        "print(\"Train accuracy:\", train_acc)"
      ],
      "metadata": {
        "colab": {
          "base_uri": "https://localhost:8080/"
        },
        "id": "CIzJ4YhuBaQ5",
        "outputId": "c96292bf-c0eb-4e3c-b9e4-685c332d2e27"
      },
      "execution_count": 8,
      "outputs": [
        {
          "output_type": "stream",
          "name": "stdout",
          "text": [
            "1875/1875 [==============================] - 4s 2ms/step - loss: 0.0298 - accuracy: 0.9905\n",
            "Train Loss: 0.029764531180262566\n",
            "Train accuracy: 0.9904999732971191\n"
          ]
        }
      ]
    },
    {
      "cell_type": "code",
      "source": [
        "test_loss, test_acc = model.evaluate(X_test, y_test)\n",
        "print(\"Test Loss:\", test_loss)\n",
        "print('Test accuracy:', test_acc)"
      ],
      "metadata": {
        "colab": {
          "base_uri": "https://localhost:8080/"
        },
        "id": "wKMwtljgBVdC",
        "outputId": "7d2e4b0f-46ef-4b50-8684-a582450af174"
      },
      "execution_count": 9,
      "outputs": [
        {
          "output_type": "stream",
          "name": "stdout",
          "text": [
            "313/313 [==============================] - 2s 5ms/step - loss: 0.0662 - accuracy: 0.9793\n",
            "Test Loss: 0.06620358675718307\n",
            "Test accuracy: 0.9793000221252441\n"
          ]
        }
      ]
    }
  ]
}