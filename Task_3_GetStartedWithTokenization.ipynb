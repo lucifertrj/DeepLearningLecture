{
 "cells": [
  {
   "cell_type": "code",
   "execution_count": 97,
   "id": "7d1d63c7",
   "metadata": {},
   "outputs": [],
   "source": [
    "from tensorflow import keras\n",
    "from tensorflow.keras.preprocessing.text import Tokenizer\n",
    "from tensorflow.keras.preprocessing.sequence import pad_sequences"
   ]
  },
  {
   "cell_type": "code",
   "execution_count": 98,
   "id": "56e231f4",
   "metadata": {},
   "outputs": [],
   "source": [
    "sentences = [\n",
    "    \"I love anime\",\n",
    "    \"Anime is the best\",\n",
    "    \"OnePiece is my favourite Anime\",\n",
    "    \"OnePiece is amazing and is loved by every Japanese. Thus it is best in the world\"\n",
    "]"
   ]
  },
  {
   "cell_type": "code",
   "execution_count": 114,
   "id": "31300652",
   "metadata": {},
   "outputs": [],
   "source": [
    "tokenizer = Tokenizer(num_words=50,oov_token=\"<UNK>\") #nums_of_word will not influence the word index\n",
    "#instead it will effect the text sequence\n",
    "#it will only be trained on num_words-1 words, rest all will be neglected\n",
    "#If you don’t use a token for out of vocabulary(oov_token) words, The word isn’t encoded, and is skipped in the sequence"
   ]
  },
  {
   "cell_type": "code",
   "execution_count": 100,
   "id": "c1a37519",
   "metadata": {},
   "outputs": [],
   "source": [
    "tokenizer.fit_on_texts(sentences)  #used to tokenize the list of sentences"
   ]
  },
  {
   "cell_type": "code",
   "execution_count": 101,
   "id": "7cbfd41e",
   "metadata": {},
   "outputs": [],
   "source": [
    "index = tokenizer.word_index  #returns dictionary of the word index based on the most occured words"
   ]
  },
  {
   "cell_type": "code",
   "execution_count": 102,
   "id": "c21347fb",
   "metadata": {},
   "outputs": [
    {
     "name": "stdout",
     "output_type": "stream",
     "text": [
      "{'<UNK>': 1, 'is': 2, 'anime': 3, 'the': 4, 'best': 5, 'onepiece': 6, 'i': 7, 'love': 8, 'my': 9, 'favourite': 10, 'amazing': 11, 'and': 12, 'loved': 13, 'by': 14, 'every': 15, 'japanese': 16, 'thus': 17, 'it': 18, 'in': 19, 'world': 20}\n"
     ]
    }
   ],
   "source": [
    "print(index)"
   ]
  },
  {
   "cell_type": "code",
   "execution_count": 113,
   "id": "2a8c0d64",
   "metadata": {},
   "outputs": [
    {
     "name": "stdout",
     "output_type": "stream",
     "text": [
      "[[7, 8, 3], [3, 2, 4, 5], [6, 2, 9, 10, 3], [6, 2, 11, 12, 2, 13, 14, 15, 16, 17, 18, 2, 5, 19, 4, 20]]\n"
     ]
    }
   ],
   "source": [
    "seq = tokenizer.texts_to_sequences(sentences) #used to encode a list of sentences \n",
    "print(seq)"
   ]
  },
  {
   "cell_type": "code",
   "execution_count": 104,
   "id": "132e7663",
   "metadata": {},
   "outputs": [],
   "source": [
    "new = [\"OnePiece is awesome and Luffy will become Pirate King\"]"
   ]
  },
  {
   "cell_type": "code",
   "execution_count": 105,
   "id": "a50c5d04",
   "metadata": {},
   "outputs": [],
   "source": [
    "find_new_seq = tokenizer.texts_to_sequences(new)"
   ]
  },
  {
   "cell_type": "code",
   "execution_count": 106,
   "id": "ddf0c409",
   "metadata": {},
   "outputs": [
    {
     "name": "stdout",
     "output_type": "stream",
     "text": [
      "[[6, 2, 1, 12, 1, 1, 1, 1, 1]]\n"
     ]
    }
   ],
   "source": [
    "print(find_new_seq)"
   ]
  },
  {
   "cell_type": "code",
   "execution_count": 112,
   "id": "8f239dd1",
   "metadata": {},
   "outputs": [
    {
     "name": "stdout",
     "output_type": "stream",
     "text": [
      "\n",
      "Word Index =  {'<UNK>': 1, 'is': 2, 'anime': 3, 'the': 4, 'best': 5, 'onepiece': 6, 'i': 7, 'love': 8, 'my': 9, 'favourite': 10, 'amazing': 11, 'and': 12, 'loved': 13, 'by': 14, 'every': 15, 'japanese': 16, 'thus': 17, 'it': 18, 'in': 19, 'world': 20}\n",
      "\n",
      "Test Sequence =  [[7, 1, 8, 9, 1], [9, 1, 1, 9, 1]]\n",
      "\n",
      "Padded Test Sequence: \n",
      "[[7 1]\n",
      " [9 1]]\n"
     ]
    }
   ],
   "source": [
    "test_data = [\n",
    "    'i really love my dog',\n",
    "    'my dog loves my manatee'\n",
    "]\n",
    "\n",
    "# Generate the sequences\n",
    "test_seq = tokenizer.texts_to_sequences(test_data)\n",
    "\n",
    "# Print the word index dictionary\n",
    "print(\"\\nWord Index = \" , index)\n",
    "\n",
    "# Print the sequences with OOV\n",
    "print(\"\\nTest Sequence = \", test_seq)\n",
    "\n",
    "# Print the padded result\n",
    "padded = pad_sequences(test_seq,truncating=\"post\", maxlen=max())\n",
    "print(\"\\nPadded Test Sequence: \")\n",
    "print(padded)"
   ]
  },
  {
   "cell_type": "code",
   "execution_count": null,
   "id": "139bf364",
   "metadata": {},
   "outputs": [],
   "source": []
  },
  {
   "cell_type": "code",
   "execution_count": null,
   "id": "a1068a8c",
   "metadata": {},
   "outputs": [],
   "source": []
  }
 ],
 "metadata": {
  "kernelspec": {
   "display_name": "Python 3 (ipykernel)",
   "language": "python",
   "name": "python3"
  },
  "language_info": {
   "codemirror_mode": {
    "name": "ipython",
    "version": 3
   },
   "file_extension": ".py",
   "mimetype": "text/x-python",
   "name": "python",
   "nbconvert_exporter": "python",
   "pygments_lexer": "ipython3",
   "version": "3.10.4"
  }
 },
 "nbformat": 4,
 "nbformat_minor": 5
}
